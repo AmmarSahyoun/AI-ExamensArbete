{
  "nbformat": 4,
  "nbformat_minor": 0,
  "metadata": {
    "colab": {
      "name": "mobilePrice_MultiClassification.ipynb",
      "provenance": [],
      "collapsed_sections": [],
      "include_colab_link": true
    },
    "kernelspec": {
      "display_name": "Python 3",
      "language": "python",
      "name": "python3"
    },
    "language_info": {
      "codemirror_mode": {
        "name": "ipython",
        "version": 3
      },
      "file_extension": ".py",
      "mimetype": "text/x-python",
      "name": "python",
      "nbconvert_exporter": "python",
      "pygments_lexer": "ipython3",
      "version": "3.8.2"
    }
  },
  "cells": [
    {
      "cell_type": "markdown",
      "metadata": {
        "id": "view-in-github",
        "colab_type": "text"
      },
      "source": [
        "<a href=\"https://colab.research.google.com/github/AmmarSahyoun/AI-ProjektSubmission/blob/master/mobilePrice_MultiClassification.ipynb\" target=\"_parent\"><img src=\"https://colab.research.google.com/assets/colab-badge.svg\" alt=\"Open In Colab\"/></a>"
      ]
    },
    {
      "cell_type": "markdown",
      "metadata": {
        "colab_type": "text",
        "id": "vTUBASHMr-3d"
      },
      "source": [
        "## In this kernel I aim to find out association between features of a mobile phone and its selling price. \n",
        "## The Data set has a price_range, so i need to figure out which is the best model that can classify a mobile to its price_range.\n",
        "## https://www.kaggle.com/iabhishekofficial/mobile-price-classification"
      ]
    },
    {
      "cell_type": "code",
      "metadata": {
        "_cell_guid": "79c7e3d0-c299-4dcb-8224-4455121ee9b0",
        "_uuid": "d629ff2d2480ee46fbb7e2d37f6b5fab8052498a",
        "colab_type": "code",
        "id": "3WjPQCVbr-3i",
        "colab": {
          "base_uri": "https://localhost:8080/",
          "height": 72
        },
        "outputId": "c2953697-f341-48ca-c00f-f1f8ce92be83"
      },
      "source": [
        "import numpy as np\n",
        "import matplotlib.pyplot as plt\n",
        "import pandas as pd\n",
        "import seaborn as sns\n",
        "import tensorflow as tf\n",
        "from sklearn.feature_selection import SelectKBest,chi2\n",
        "from sklearn.neighbors import KNeighborsClassifier\n",
        "from sklearn import model_selection\n",
        "from sklearn.model_selection import train_test_split\n",
        "from sklearn.metrics import confusion_matrix\n",
        "from sklearn.metrics import mean_squared_error"
      ],
      "execution_count": 1,
      "outputs": [
        {
          "output_type": "stream",
          "text": [
            "/usr/local/lib/python3.6/dist-packages/statsmodels/tools/_testing.py:19: FutureWarning: pandas.util.testing is deprecated. Use the functions in the public API at pandas.testing instead.\n",
            "  import pandas.util.testing as tm\n"
          ],
          "name": "stderr"
        }
      ]
    },
    {
      "cell_type": "markdown",
      "metadata": {
        "id": "ZMsCr9st_NI_",
        "colab_type": "text"
      },
      "source": [
        "\n",
        "# Starting with EDA"
      ]
    },
    {
      "cell_type": "code",
      "metadata": {
        "colab_type": "code",
        "id": "Yiiz6AxMr-3k",
        "colab": {}
      },
      "source": [
        "train_data = pd.read_csv(\"train.csv\")"
      ],
      "execution_count": 2,
      "outputs": []
    },
    {
      "cell_type": "code",
      "metadata": {
        "colab_type": "code",
        "id": "9qKOuxTxr-3p",
        "colab": {
          "base_uri": "https://localhost:8080/",
          "height": 222
        },
        "outputId": "dfe143ef-45c6-4c76-d200-f40665c4df6c"
      },
      "source": [
        "train_data.tail()"
      ],
      "execution_count": 3,
      "outputs": [
        {
          "output_type": "execute_result",
          "data": {
            "text/html": [
              "<div>\n",
              "<style scoped>\n",
              "    .dataframe tbody tr th:only-of-type {\n",
              "        vertical-align: middle;\n",
              "    }\n",
              "\n",
              "    .dataframe tbody tr th {\n",
              "        vertical-align: top;\n",
              "    }\n",
              "\n",
              "    .dataframe thead th {\n",
              "        text-align: right;\n",
              "    }\n",
              "</style>\n",
              "<table border=\"1\" class=\"dataframe\">\n",
              "  <thead>\n",
              "    <tr style=\"text-align: right;\">\n",
              "      <th></th>\n",
              "      <th>battery_power</th>\n",
              "      <th>blue</th>\n",
              "      <th>clock_speed</th>\n",
              "      <th>dual_sim</th>\n",
              "      <th>fc</th>\n",
              "      <th>four_g</th>\n",
              "      <th>int_memory</th>\n",
              "      <th>m_dep</th>\n",
              "      <th>mobile_wt</th>\n",
              "      <th>n_cores</th>\n",
              "      <th>pc</th>\n",
              "      <th>px_height</th>\n",
              "      <th>px_width</th>\n",
              "      <th>ram</th>\n",
              "      <th>sc_h</th>\n",
              "      <th>sc_w</th>\n",
              "      <th>talk_time</th>\n",
              "      <th>three_g</th>\n",
              "      <th>touch_screen</th>\n",
              "      <th>wifi</th>\n",
              "      <th>price_range</th>\n",
              "    </tr>\n",
              "  </thead>\n",
              "  <tbody>\n",
              "    <tr>\n",
              "      <th>1995</th>\n",
              "      <td>794</td>\n",
              "      <td>1</td>\n",
              "      <td>0.5</td>\n",
              "      <td>1</td>\n",
              "      <td>0</td>\n",
              "      <td>1</td>\n",
              "      <td>2</td>\n",
              "      <td>0.8</td>\n",
              "      <td>106</td>\n",
              "      <td>6</td>\n",
              "      <td>14</td>\n",
              "      <td>1222</td>\n",
              "      <td>1890</td>\n",
              "      <td>668</td>\n",
              "      <td>13</td>\n",
              "      <td>4</td>\n",
              "      <td>19</td>\n",
              "      <td>1</td>\n",
              "      <td>1</td>\n",
              "      <td>0</td>\n",
              "      <td>0</td>\n",
              "    </tr>\n",
              "    <tr>\n",
              "      <th>1996</th>\n",
              "      <td>1965</td>\n",
              "      <td>1</td>\n",
              "      <td>2.6</td>\n",
              "      <td>1</td>\n",
              "      <td>0</td>\n",
              "      <td>0</td>\n",
              "      <td>39</td>\n",
              "      <td>0.2</td>\n",
              "      <td>187</td>\n",
              "      <td>4</td>\n",
              "      <td>3</td>\n",
              "      <td>915</td>\n",
              "      <td>1965</td>\n",
              "      <td>2032</td>\n",
              "      <td>11</td>\n",
              "      <td>10</td>\n",
              "      <td>16</td>\n",
              "      <td>1</td>\n",
              "      <td>1</td>\n",
              "      <td>1</td>\n",
              "      <td>2</td>\n",
              "    </tr>\n",
              "    <tr>\n",
              "      <th>1997</th>\n",
              "      <td>1911</td>\n",
              "      <td>0</td>\n",
              "      <td>0.9</td>\n",
              "      <td>1</td>\n",
              "      <td>1</td>\n",
              "      <td>1</td>\n",
              "      <td>36</td>\n",
              "      <td>0.7</td>\n",
              "      <td>108</td>\n",
              "      <td>8</td>\n",
              "      <td>3</td>\n",
              "      <td>868</td>\n",
              "      <td>1632</td>\n",
              "      <td>3057</td>\n",
              "      <td>9</td>\n",
              "      <td>1</td>\n",
              "      <td>5</td>\n",
              "      <td>1</td>\n",
              "      <td>1</td>\n",
              "      <td>0</td>\n",
              "      <td>3</td>\n",
              "    </tr>\n",
              "    <tr>\n",
              "      <th>1998</th>\n",
              "      <td>1512</td>\n",
              "      <td>0</td>\n",
              "      <td>0.9</td>\n",
              "      <td>0</td>\n",
              "      <td>4</td>\n",
              "      <td>1</td>\n",
              "      <td>46</td>\n",
              "      <td>0.1</td>\n",
              "      <td>145</td>\n",
              "      <td>5</td>\n",
              "      <td>5</td>\n",
              "      <td>336</td>\n",
              "      <td>670</td>\n",
              "      <td>869</td>\n",
              "      <td>18</td>\n",
              "      <td>10</td>\n",
              "      <td>19</td>\n",
              "      <td>1</td>\n",
              "      <td>1</td>\n",
              "      <td>1</td>\n",
              "      <td>0</td>\n",
              "    </tr>\n",
              "    <tr>\n",
              "      <th>1999</th>\n",
              "      <td>510</td>\n",
              "      <td>1</td>\n",
              "      <td>2.0</td>\n",
              "      <td>1</td>\n",
              "      <td>5</td>\n",
              "      <td>1</td>\n",
              "      <td>45</td>\n",
              "      <td>0.9</td>\n",
              "      <td>168</td>\n",
              "      <td>6</td>\n",
              "      <td>16</td>\n",
              "      <td>483</td>\n",
              "      <td>754</td>\n",
              "      <td>3919</td>\n",
              "      <td>19</td>\n",
              "      <td>4</td>\n",
              "      <td>2</td>\n",
              "      <td>1</td>\n",
              "      <td>1</td>\n",
              "      <td>1</td>\n",
              "      <td>3</td>\n",
              "    </tr>\n",
              "  </tbody>\n",
              "</table>\n",
              "</div>"
            ],
            "text/plain": [
              "      battery_power  blue  clock_speed  ...  touch_screen  wifi  price_range\n",
              "1995            794     1          0.5  ...             1     0            0\n",
              "1996           1965     1          2.6  ...             1     1            2\n",
              "1997           1911     0          0.9  ...             1     0            3\n",
              "1998           1512     0          0.9  ...             1     1            0\n",
              "1999            510     1          2.0  ...             1     1            3\n",
              "\n",
              "[5 rows x 21 columns]"
            ]
          },
          "metadata": {
            "tags": []
          },
          "execution_count": 3
        }
      ]
    },
    {
      "cell_type": "code",
      "metadata": {
        "colab_type": "code",
        "id": "wHnE1jXoSzi4",
        "colab": {
          "base_uri": "https://localhost:8080/",
          "height": 503
        },
        "outputId": "9bef1a2e-dff7-48cf-bc60-9785868cd07b"
      },
      "source": [
        "train_data.info() # we have 2000 samples and 11 features"
      ],
      "execution_count": 4,
      "outputs": [
        {
          "output_type": "stream",
          "text": [
            "<class 'pandas.core.frame.DataFrame'>\n",
            "RangeIndex: 2000 entries, 0 to 1999\n",
            "Data columns (total 21 columns):\n",
            " #   Column         Non-Null Count  Dtype  \n",
            "---  ------         --------------  -----  \n",
            " 0   battery_power  2000 non-null   int64  \n",
            " 1   blue           2000 non-null   int64  \n",
            " 2   clock_speed    2000 non-null   float64\n",
            " 3   dual_sim       2000 non-null   int64  \n",
            " 4   fc             2000 non-null   int64  \n",
            " 5   four_g         2000 non-null   int64  \n",
            " 6   int_memory     2000 non-null   int64  \n",
            " 7   m_dep          2000 non-null   float64\n",
            " 8   mobile_wt      2000 non-null   int64  \n",
            " 9   n_cores        2000 non-null   int64  \n",
            " 10  pc             2000 non-null   int64  \n",
            " 11  px_height      2000 non-null   int64  \n",
            " 12  px_width       2000 non-null   int64  \n",
            " 13  ram            2000 non-null   int64  \n",
            " 14  sc_h           2000 non-null   int64  \n",
            " 15  sc_w           2000 non-null   int64  \n",
            " 16  talk_time      2000 non-null   int64  \n",
            " 17  three_g        2000 non-null   int64  \n",
            " 18  touch_screen   2000 non-null   int64  \n",
            " 19  wifi           2000 non-null   int64  \n",
            " 20  price_range    2000 non-null   int64  \n",
            "dtypes: float64(2), int64(19)\n",
            "memory usage: 328.2 KB\n"
          ],
          "name": "stdout"
        }
      ]
    },
    {
      "cell_type": "code",
      "metadata": {
        "colab_type": "code",
        "id": "yh_t3vwrr-3r",
        "colab": {
          "base_uri": "https://localhost:8080/",
          "height": 399
        },
        "outputId": "5edc8b4f-ca62-4da2-af48-e9705c077186"
      },
      "source": [
        "train_data.isnull().any() # check for null value"
      ],
      "execution_count": 5,
      "outputs": [
        {
          "output_type": "execute_result",
          "data": {
            "text/plain": [
              "battery_power    False\n",
              "blue             False\n",
              "clock_speed      False\n",
              "dual_sim         False\n",
              "fc               False\n",
              "four_g           False\n",
              "int_memory       False\n",
              "m_dep            False\n",
              "mobile_wt        False\n",
              "n_cores          False\n",
              "pc               False\n",
              "px_height        False\n",
              "px_width         False\n",
              "ram              False\n",
              "sc_h             False\n",
              "sc_w             False\n",
              "talk_time        False\n",
              "three_g          False\n",
              "touch_screen     False\n",
              "wifi             False\n",
              "price_range      False\n",
              "dtype: bool"
            ]
          },
          "metadata": {
            "tags": []
          },
          "execution_count": 5
        }
      ]
    },
    {
      "cell_type": "code",
      "metadata": {
        "colab_type": "code",
        "id": "Hj2UOG5ur-3t",
        "colab": {
          "base_uri": "https://localhost:8080/",
          "height": 104
        },
        "outputId": "4bdf32d4-ede4-47a4-cfa2-1c3aa51ec395"
      },
      "source": [
        "# We have 4 price groups in our data\n",
        "train_data['price_range'].value_counts()"
      ],
      "execution_count": 6,
      "outputs": [
        {
          "output_type": "execute_result",
          "data": {
            "text/plain": [
              "3    500\n",
              "2    500\n",
              "1    500\n",
              "0    500\n",
              "Name: price_range, dtype: int64"
            ]
          },
          "metadata": {
            "tags": []
          },
          "execution_count": 6
        }
      ]
    },
    {
      "cell_type": "code",
      "metadata": {
        "colab_type": "code",
        "id": "ouydjJFUte9t",
        "colab": {
          "base_uri": "https://localhost:8080/",
          "height": 795
        },
        "outputId": "1f05e002-3136-4884-f66a-9557e44aa65a"
      },
      "source": [
        "corr = train_data.corr() #take a look at the features association\n",
        "fig = plt.figure(figsize=(15,12))\n",
        "r = sns.heatmap(corr, cmap='Blues')\n",
        "r.set_title(\"Correlation \")"
      ],
      "execution_count": 7,
      "outputs": [
        {
          "output_type": "execute_result",
          "data": {
            "text/plain": [
              "Text(0.5, 1.0, 'Correlation ')"
            ]
          },
          "metadata": {
            "tags": []
          },
          "execution_count": 7
        },
        {
          "output_type": "display_data",
          "data": {
            "image/png": "[encoded data removed]",
            "text/plain": [
              "<Figure size 1080x864 with 2 Axes>"
            ]
          },
          "metadata": {
            "tags": [],
            "needs_background": "light"
          }
        }
      ]
    },
    {
      "cell_type": "code",
      "metadata": {
        "colab_type": "code",
        "id": "9IgagPH0uf_r",
        "colab": {
          "base_uri": "https://localhost:8080/",
          "height": 399
        },
        "outputId": "66d76eb0-2c51-448c-ab5b-173dae05dd2a"
      },
      "source": [
        "# The target price range has highly positive correlation between ram, what about other features correlation with the price range?\n",
        "corr.sort_values(by=[\"price_range\"],ascending=False).iloc[0].sort_values(ascending=False)"
      ],
      "execution_count": 8,
      "outputs": [
        {
          "output_type": "execute_result",
          "data": {
            "text/plain": [
              "price_range      1.000000\n",
              "ram              0.917046\n",
              "battery_power    0.200723\n",
              "px_width         0.165818\n",
              "px_height        0.148858\n",
              "int_memory       0.044435\n",
              "sc_w             0.038711\n",
              "pc               0.033599\n",
              "three_g          0.023611\n",
              "sc_h             0.022986\n",
              "fc               0.021998\n",
              "talk_time        0.021859\n",
              "blue             0.020573\n",
              "wifi             0.018785\n",
              "dual_sim         0.017444\n",
              "four_g           0.014772\n",
              "n_cores          0.004399\n",
              "m_dep            0.000853\n",
              "clock_speed     -0.006606\n",
              "mobile_wt       -0.030302\n",
              "touch_screen    -0.030411\n",
              "Name: price_range, dtype: float64"
            ]
          },
          "metadata": {
            "tags": []
          },
          "execution_count": 8
        }
      ]
    },
    {
      "cell_type": "markdown",
      "metadata": {
        "colab_type": "text",
        "id": "7Bzr4y53Tii7"
      },
      "source": [
        "### We can notice that the Ram, battery and the dimensions of the mobile are the most important features."
      ]
    },
    {
      "cell_type": "code",
      "metadata": {
        "colab_type": "code",
        "id": "I44otgLhQHg7",
        "colab": {
          "base_uri": "https://localhost:8080/",
          "height": 1000
        },
        "outputId": "c1578c6d-86da-413d-c887-5e3c6989db04"
      },
      "source": [
        "fig = plt.figure(figsize = (8,10))\n",
        "ax = fig.gca()\n",
        "train_data.hist(ax = ax)"
      ],
      "execution_count": 9,
      "outputs": [
        {
          "output_type": "stream",
          "text": [
            "/usr/local/lib/python3.6/dist-packages/ipykernel_launcher.py:3: UserWarning: To output multiple subplots, the figure containing the passed axes is being cleared\n",
            "  This is separate from the ipykernel package so we can avoid doing imports until\n"
          ],
          "name": "stderr"
        },
        {
          "output_type": "execute_result",
          "data": {
            "text/plain": [
              "array([[<matplotlib.axes._subplots.AxesSubplot object at 0x7f121ff723c8>,\n",
              "        <matplotlib.axes._subplots.AxesSubplot object at 0x7f121be76e48>,\n",
              "        <matplotlib.axes._subplots.AxesSubplot object at 0x7f121be380f0>,\n",
              "        <matplotlib.axes._subplots.AxesSubplot object at 0x7f121bde3748>,\n",
              "        <matplotlib.axes._subplots.AxesSubplot object at 0x7f121bd939b0>],\n",
              "       [<matplotlib.axes._subplots.AxesSubplot object at 0x7f121bd4ac18>,\n",
              "        <matplotlib.axes._subplots.AxesSubplot object at 0x7f121bd7fe80>,\n",
              "        <matplotlib.axes._subplots.AxesSubplot object at 0x7f121bd3e0f0>,\n",
              "        <matplotlib.axes._subplots.AxesSubplot object at 0x7f121bd3e160>,\n",
              "        <matplotlib.axes._subplots.AxesSubplot object at 0x7f121bca75f8>],\n",
              "       [<matplotlib.axes._subplots.AxesSubplot object at 0x7f121bc5b860>,\n",
              "        <matplotlib.axes._subplots.AxesSubplot object at 0x7f121bc0eac8>,\n",
              "        <matplotlib.axes._subplots.AxesSubplot object at 0x7f121bc42d30>,\n",
              "        <matplotlib.axes._subplots.AxesSubplot object at 0x7f121bbf7f98>,\n",
              "        <matplotlib.axes._subplots.AxesSubplot object at 0x7f121bbb6240>],\n",
              "       [<matplotlib.axes._subplots.AxesSubplot object at 0x7f121bb6a4a8>,\n",
              "        <matplotlib.axes._subplots.AxesSubplot object at 0x7f121bb1e710>,\n",
              "        <matplotlib.axes._subplots.AxesSubplot object at 0x7f121bad3978>,\n",
              "        <matplotlib.axes._subplots.AxesSubplot object at 0x7f121bb07be0>,\n",
              "        <matplotlib.axes._subplots.AxesSubplot object at 0x7f121babee48>],\n",
              "       [<matplotlib.axes._subplots.AxesSubplot object at 0x7f121ba7d0f0>,\n",
              "        <matplotlib.axes._subplots.AxesSubplot object at 0x7f121ba2f358>,\n",
              "        <matplotlib.axes._subplots.AxesSubplot object at 0x7f121b9e1ac8>,\n",
              "        <matplotlib.axes._subplots.AxesSubplot object at 0x7f121b992e48>,\n",
              "        <matplotlib.axes._subplots.AxesSubplot object at 0x7f121b950208>]],\n",
              "      dtype=object)"
            ]
          },
          "metadata": {
            "tags": []
          },
          "execution_count": 9
        },
        {
          "output_type": "display_data",
          "data": {
            "image/png": "[encoded data removed]",
            "text/plain": [
              "<Figure size 576x720 with 25 Axes>"
            ]
          },
          "metadata": {
            "tags": [],
            "needs_background": "light"
          }
        }
      ]
    },
    {
      "cell_type": "code",
      "metadata": {
        "colab_type": "code",
        "id": "inKOsCVevNDP",
        "colab": {
          "base_uri": "https://localhost:8080/",
          "height": 606
        },
        "outputId": "74a8a4b6-867f-4cd0-bcfa-57558b86f211"
      },
      "source": [
        "# will plot the 4G and ram values according to price range.\n",
        "f, ax = plt.subplots(figsize=(10, 10))\n",
        "ax=sns.swarmplot(x=\"four_g\", y=\"ram\", hue=\"price_range\",\n",
        "              palette=\"Dark2\", data=train_data)\n",
        "ax=sns.set(style=\"darkgrid\")"
      ],
      "execution_count": 10,
      "outputs": [
        {
          "output_type": "display_data",
          "data": {
            "image/png": "[encoded data removed]",
            "text/plain": [
              "<Figure size 720x720 with 1 Axes>"
            ]
          },
          "metadata": {
            "tags": [],
            "needs_background": "light"
          }
        }
      ]
    },
    {
      "cell_type": "code",
      "metadata": {
        "colab_type": "code",
        "id": "R5FiS9J3VUFF",
        "colab": {
          "base_uri": "https://localhost:8080/",
          "height": 303
        },
        "outputId": "a7093646-b3ce-4d79-e060-04e78c430cde"
      },
      "source": [
        "# The Boxplot shows distribution of ram values according to price range. \n",
        "sns.boxplot(x = 'price_range',y = 'ram', data=train_data)"
      ],
      "execution_count": 11,
      "outputs": [
        {
          "output_type": "execute_result",
          "data": {
            "text/plain": [
              "<matplotlib.axes._subplots.AxesSubplot at 0x7f121b4fe588>"
            ]
          },
          "metadata": {
            "tags": []
          },
          "execution_count": 11
        },
        {
          "output_type": "display_data",
          "data": {
            "image/png": "[encoded data removed]",
            "text/plain": [
              "<Figure size 432x288 with 1 Axes>"
            ]
          },
          "metadata": {
            "tags": []
          }
        }
      ]
    },
    {
      "cell_type": "markdown",
      "metadata": {
        "colab_type": "text",
        "id": "yzJBCNkvr-3v"
      },
      "source": [
        "## Univariate Feature Selection\n",
        "\n",
        "Uses staistical test to select those features that have strongest relationship with target variable."
      ]
    },
    {
      "cell_type": "code",
      "metadata": {
        "colab_type": "code",
        "id": "A7JPMkKzr-3w",
        "colab": {
          "base_uri": "https://localhost:8080/",
          "height": 435
        },
        "outputId": "ae5d604c-8371-4660-95ca-2a025a6bffec"
      },
      "source": [
        "x = train_data.iloc[:,0:20]\n",
        "y = train_data.iloc[:,20:]\n",
        "x"
      ],
      "execution_count": 12,
      "outputs": [
        {
          "output_type": "execute_result",
          "data": {
            "text/html": [
              "<div>\n",
              "<style scoped>\n",
              "    .dataframe tbody tr th:only-of-type {\n",
              "        vertical-align: middle;\n",
              "    }\n",
              "\n",
              "    .dataframe tbody tr th {\n",
              "        vertical-align: top;\n",
              "    }\n",
              "\n",
              "    .dataframe thead th {\n",
              "        text-align: right;\n",
              "    }\n",
              "</style>\n",
              "<table border=\"1\" class=\"dataframe\">\n",
              "  <thead>\n",
              "    <tr style=\"text-align: right;\">\n",
              "      <th></th>\n",
              "      <th>battery_power</th>\n",
              "      <th>blue</th>\n",
              "      <th>clock_speed</th>\n",
              "      <th>dual_sim</th>\n",
              "      <th>fc</th>\n",
              "      <th>four_g</th>\n",
              "      <th>int_memory</th>\n",
              "      <th>m_dep</th>\n",
              "      <th>mobile_wt</th>\n",
              "      <th>n_cores</th>\n",
              "      <th>pc</th>\n",
              "      <th>px_height</th>\n",
              "      <th>px_width</th>\n",
              "      <th>ram</th>\n",
              "      <th>sc_h</th>\n",
              "      <th>sc_w</th>\n",
              "      <th>talk_time</th>\n",
              "      <th>three_g</th>\n",
              "      <th>touch_screen</th>\n",
              "      <th>wifi</th>\n",
              "    </tr>\n",
              "  </thead>\n",
              "  <tbody>\n",
              "    <tr>\n",
              "      <th>0</th>\n",
              "      <td>842</td>\n",
              "      <td>0</td>\n",
              "      <td>2.2</td>\n",
              "      <td>0</td>\n",
              "      <td>1</td>\n",
              "      <td>0</td>\n",
              "      <td>7</td>\n",
              "      <td>0.6</td>\n",
              "      <td>188</td>\n",
              "      <td>2</td>\n",
              "      <td>2</td>\n",
              "      <td>20</td>\n",
              "      <td>756</td>\n",
              "      <td>2549</td>\n",
              "      <td>9</td>\n",
              "      <td>7</td>\n",
              "      <td>19</td>\n",
              "      <td>0</td>\n",
              "      <td>0</td>\n",
              "      <td>1</td>\n",
              "    </tr>\n",
              "    <tr>\n",
              "      <th>1</th>\n",
              "      <td>1021</td>\n",
              "      <td>1</td>\n",
              "      <td>0.5</td>\n",
              "      <td>1</td>\n",
              "      <td>0</td>\n",
              "      <td>1</td>\n",
              "      <td>53</td>\n",
              "      <td>0.7</td>\n",
              "      <td>136</td>\n",
              "      <td>3</td>\n",
              "      <td>6</td>\n",
              "      <td>905</td>\n",
              "      <td>1988</td>\n",
              "      <td>2631</td>\n",
              "      <td>17</td>\n",
              "      <td>3</td>\n",
              "      <td>7</td>\n",
              "      <td>1</td>\n",
              "      <td>1</td>\n",
              "      <td>0</td>\n",
              "    </tr>\n",
              "    <tr>\n",
              "      <th>2</th>\n",
              "      <td>563</td>\n",
              "      <td>1</td>\n",
              "      <td>0.5</td>\n",
              "      <td>1</td>\n",
              "      <td>2</td>\n",
              "      <td>1</td>\n",
              "      <td>41</td>\n",
              "      <td>0.9</td>\n",
              "      <td>145</td>\n",
              "      <td>5</td>\n",
              "      <td>6</td>\n",
              "      <td>1263</td>\n",
              "      <td>1716</td>\n",
              "      <td>2603</td>\n",
              "      <td>11</td>\n",
              "      <td>2</td>\n",
              "      <td>9</td>\n",
              "      <td>1</td>\n",
              "      <td>1</td>\n",
              "      <td>0</td>\n",
              "    </tr>\n",
              "    <tr>\n",
              "      <th>3</th>\n",
              "      <td>615</td>\n",
              "      <td>1</td>\n",
              "      <td>2.5</td>\n",
              "      <td>0</td>\n",
              "      <td>0</td>\n",
              "      <td>0</td>\n",
              "      <td>10</td>\n",
              "      <td>0.8</td>\n",
              "      <td>131</td>\n",
              "      <td>6</td>\n",
              "      <td>9</td>\n",
              "      <td>1216</td>\n",
              "      <td>1786</td>\n",
              "      <td>2769</td>\n",
              "      <td>16</td>\n",
              "      <td>8</td>\n",
              "      <td>11</td>\n",
              "      <td>1</td>\n",
              "      <td>0</td>\n",
              "      <td>0</td>\n",
              "    </tr>\n",
              "    <tr>\n",
              "      <th>4</th>\n",
              "      <td>1821</td>\n",
              "      <td>1</td>\n",
              "      <td>1.2</td>\n",
              "      <td>0</td>\n",
              "      <td>13</td>\n",
              "      <td>1</td>\n",
              "      <td>44</td>\n",
              "      <td>0.6</td>\n",
              "      <td>141</td>\n",
              "      <td>2</td>\n",
              "      <td>14</td>\n",
              "      <td>1208</td>\n",
              "      <td>1212</td>\n",
              "      <td>1411</td>\n",
              "      <td>8</td>\n",
              "      <td>2</td>\n",
              "      <td>15</td>\n",
              "      <td>1</td>\n",
              "      <td>1</td>\n",
              "      <td>0</td>\n",
              "    </tr>\n",
              "    <tr>\n",
              "      <th>...</th>\n",
              "      <td>...</td>\n",
              "      <td>...</td>\n",
              "      <td>...</td>\n",
              "      <td>...</td>\n",
              "      <td>...</td>\n",
              "      <td>...</td>\n",
              "      <td>...</td>\n",
              "      <td>...</td>\n",
              "      <td>...</td>\n",
              "      <td>...</td>\n",
              "      <td>...</td>\n",
              "      <td>...</td>\n",
              "      <td>...</td>\n",
              "      <td>...</td>\n",
              "      <td>...</td>\n",
              "      <td>...</td>\n",
              "      <td>...</td>\n",
              "      <td>...</td>\n",
              "      <td>...</td>\n",
              "      <td>...</td>\n",
              "    </tr>\n",
              "    <tr>\n",
              "      <th>1995</th>\n",
              "      <td>794</td>\n",
              "      <td>1</td>\n",
              "      <td>0.5</td>\n",
              "      <td>1</td>\n",
              "      <td>0</td>\n",
              "      <td>1</td>\n",
              "      <td>2</td>\n",
              "      <td>0.8</td>\n",
              "      <td>106</td>\n",
              "      <td>6</td>\n",
              "      <td>14</td>\n",
              "      <td>1222</td>\n",
              "      <td>1890</td>\n",
              "      <td>668</td>\n",
              "      <td>13</td>\n",
              "      <td>4</td>\n",
              "      <td>19</td>\n",
              "      <td>1</td>\n",
              "      <td>1</td>\n",
              "      <td>0</td>\n",
              "    </tr>\n",
              "    <tr>\n",
              "      <th>1996</th>\n",
              "      <td>1965</td>\n",
              "      <td>1</td>\n",
              "      <td>2.6</td>\n",
              "      <td>1</td>\n",
              "      <td>0</td>\n",
              "      <td>0</td>\n",
              "      <td>39</td>\n",
              "      <td>0.2</td>\n",
              "      <td>187</td>\n",
              "      <td>4</td>\n",
              "      <td>3</td>\n",
              "      <td>915</td>\n",
              "      <td>1965</td>\n",
              "      <td>2032</td>\n",
              "      <td>11</td>\n",
              "      <td>10</td>\n",
              "      <td>16</td>\n",
              "      <td>1</td>\n",
              "      <td>1</td>\n",
              "      <td>1</td>\n",
              "    </tr>\n",
              "    <tr>\n",
              "      <th>1997</th>\n",
              "      <td>1911</td>\n",
              "      <td>0</td>\n",
              "      <td>0.9</td>\n",
              "      <td>1</td>\n",
              "      <td>1</td>\n",
              "      <td>1</td>\n",
              "      <td>36</td>\n",
              "      <td>0.7</td>\n",
              "      <td>108</td>\n",
              "      <td>8</td>\n",
              "      <td>3</td>\n",
              "      <td>868</td>\n",
              "      <td>1632</td>\n",
              "      <td>3057</td>\n",
              "      <td>9</td>\n",
              "      <td>1</td>\n",
              "      <td>5</td>\n",
              "      <td>1</td>\n",
              "      <td>1</td>\n",
              "      <td>0</td>\n",
              "    </tr>\n",
              "    <tr>\n",
              "      <th>1998</th>\n",
              "      <td>1512</td>\n",
              "      <td>0</td>\n",
              "      <td>0.9</td>\n",
              "      <td>0</td>\n",
              "      <td>4</td>\n",
              "      <td>1</td>\n",
              "      <td>46</td>\n",
              "      <td>0.1</td>\n",
              "      <td>145</td>\n",
              "      <td>5</td>\n",
              "      <td>5</td>\n",
              "      <td>336</td>\n",
              "      <td>670</td>\n",
              "      <td>869</td>\n",
              "      <td>18</td>\n",
              "      <td>10</td>\n",
              "      <td>19</td>\n",
              "      <td>1</td>\n",
              "      <td>1</td>\n",
              "      <td>1</td>\n",
              "    </tr>\n",
              "    <tr>\n",
              "      <th>1999</th>\n",
              "      <td>510</td>\n",
              "      <td>1</td>\n",
              "      <td>2.0</td>\n",
              "      <td>1</td>\n",
              "      <td>5</td>\n",
              "      <td>1</td>\n",
              "      <td>45</td>\n",
              "      <td>0.9</td>\n",
              "      <td>168</td>\n",
              "      <td>6</td>\n",
              "      <td>16</td>\n",
              "      <td>483</td>\n",
              "      <td>754</td>\n",
              "      <td>3919</td>\n",
              "      <td>19</td>\n",
              "      <td>4</td>\n",
              "      <td>2</td>\n",
              "      <td>1</td>\n",
              "      <td>1</td>\n",
              "      <td>1</td>\n",
              "    </tr>\n",
              "  </tbody>\n",
              "</table>\n",
              "<p>2000 rows × 20 columns</p>\n",
              "</div>"
            ],
            "text/plain": [
              "      battery_power  blue  clock_speed  ...  three_g  touch_screen  wifi\n",
              "0               842     0          2.2  ...        0             0     1\n",
              "1              1021     1          0.5  ...        1             1     0\n",
              "2               563     1          0.5  ...        1             1     0\n",
              "3               615     1          2.5  ...        1             0     0\n",
              "4              1821     1          1.2  ...        1             1     0\n",
              "...             ...   ...          ...  ...      ...           ...   ...\n",
              "1995            794     1          0.5  ...        1             1     0\n",
              "1996           1965     1          2.6  ...        1             1     1\n",
              "1997           1911     0          0.9  ...        1             1     0\n",
              "1998           1512     0          0.9  ...        1             1     1\n",
              "1999            510     1          2.0  ...        1             1     1\n",
              "\n",
              "[2000 rows x 20 columns]"
            ]
          },
          "metadata": {
            "tags": []
          },
          "execution_count": 12
        }
      ]
    },
    {
      "cell_type": "code",
      "metadata": {
        "colab_type": "code",
        "id": "gOU88isor-3z",
        "colab": {
          "base_uri": "https://localhost:8080/",
          "height": 35
        },
        "outputId": "e3a2eed9-bb88-475c-9e4b-da4ff0e1435e"
      },
      "source": [
        "print(y.shape)"
      ],
      "execution_count": 13,
      "outputs": [
        {
          "output_type": "stream",
          "text": [
            "(2000, 1)\n"
          ],
          "name": "stdout"
        }
      ]
    },
    {
      "cell_type": "markdown",
      "metadata": {
        "colab_type": "text",
        "id": "6FXBFhLTYEAM"
      },
      "source": [
        "# Data preparation\n",
        "### I will drop the features with weak relations with the price range."
      ]
    },
    {
      "cell_type": "code",
      "metadata": {
        "colab_type": "code",
        "id": "-S1Ff899r-31",
        "colab": {}
      },
      "source": [
        "best_feat = SelectKBest(chi2,k=10)\n",
        "fit = best_feat.fit(x,y)"
      ],
      "execution_count": 14,
      "outputs": []
    },
    {
      "cell_type": "code",
      "metadata": {
        "colab_type": "code",
        "id": "E3K6q8kIr-33",
        "colab": {}
      },
      "source": [
        "dfscores = pd.DataFrame(fit.scores_)\n",
        "dfcolumns = pd.DataFrame(x.columns)"
      ],
      "execution_count": 15,
      "outputs": []
    },
    {
      "cell_type": "code",
      "metadata": {
        "colab_type": "code",
        "id": "sNsBX-EKr-35",
        "colab": {}
      },
      "source": [
        "# concat both dataframes for comparing best scores\n",
        "\n",
        "score_list = pd.concat([dfcolumns,dfscores],axis=1)\n",
        "score_list.columns = [\"features\",\"scores\"]"
      ],
      "execution_count": 16,
      "outputs": []
    },
    {
      "cell_type": "code",
      "metadata": {
        "colab_type": "code",
        "id": "uUwQPuA6r-37",
        "colab": {
          "base_uri": "https://localhost:8080/",
          "height": 662
        },
        "outputId": "572d8f54-84d2-469b-a39e-76969862b1a9"
      },
      "source": [
        "score_list"
      ],
      "execution_count": 17,
      "outputs": [
        {
          "output_type": "execute_result",
          "data": {
            "text/html": [
              "<div>\n",
              "<style scoped>\n",
              "    .dataframe tbody tr th:only-of-type {\n",
              "        vertical-align: middle;\n",
              "    }\n",
              "\n",
              "    .dataframe tbody tr th {\n",
              "        vertical-align: top;\n",
              "    }\n",
              "\n",
              "    .dataframe thead th {\n",
              "        text-align: right;\n",
              "    }\n",
              "</style>\n",
              "<table border=\"1\" class=\"dataframe\">\n",
              "  <thead>\n",
              "    <tr style=\"text-align: right;\">\n",
              "      <th></th>\n",
              "      <th>features</th>\n",
              "      <th>scores</th>\n",
              "    </tr>\n",
              "  </thead>\n",
              "  <tbody>\n",
              "    <tr>\n",
              "      <th>0</th>\n",
              "      <td>battery_power</td>\n",
              "      <td>14129.866576</td>\n",
              "    </tr>\n",
              "    <tr>\n",
              "      <th>1</th>\n",
              "      <td>blue</td>\n",
              "      <td>0.723232</td>\n",
              "    </tr>\n",
              "    <tr>\n",
              "      <th>2</th>\n",
              "      <td>clock_speed</td>\n",
              "      <td>0.648366</td>\n",
              "    </tr>\n",
              "    <tr>\n",
              "      <th>3</th>\n",
              "      <td>dual_sim</td>\n",
              "      <td>0.631011</td>\n",
              "    </tr>\n",
              "    <tr>\n",
              "      <th>4</th>\n",
              "      <td>fc</td>\n",
              "      <td>10.135166</td>\n",
              "    </tr>\n",
              "    <tr>\n",
              "      <th>5</th>\n",
              "      <td>four_g</td>\n",
              "      <td>1.521572</td>\n",
              "    </tr>\n",
              "    <tr>\n",
              "      <th>6</th>\n",
              "      <td>int_memory</td>\n",
              "      <td>89.839124</td>\n",
              "    </tr>\n",
              "    <tr>\n",
              "      <th>7</th>\n",
              "      <td>m_dep</td>\n",
              "      <td>0.745820</td>\n",
              "    </tr>\n",
              "    <tr>\n",
              "      <th>8</th>\n",
              "      <td>mobile_wt</td>\n",
              "      <td>95.972863</td>\n",
              "    </tr>\n",
              "    <tr>\n",
              "      <th>9</th>\n",
              "      <td>n_cores</td>\n",
              "      <td>9.097556</td>\n",
              "    </tr>\n",
              "    <tr>\n",
              "      <th>10</th>\n",
              "      <td>pc</td>\n",
              "      <td>9.186054</td>\n",
              "    </tr>\n",
              "    <tr>\n",
              "      <th>11</th>\n",
              "      <td>px_height</td>\n",
              "      <td>17363.569536</td>\n",
              "    </tr>\n",
              "    <tr>\n",
              "      <th>12</th>\n",
              "      <td>px_width</td>\n",
              "      <td>9810.586750</td>\n",
              "    </tr>\n",
              "    <tr>\n",
              "      <th>13</th>\n",
              "      <td>ram</td>\n",
              "      <td>931267.519053</td>\n",
              "    </tr>\n",
              "    <tr>\n",
              "      <th>14</th>\n",
              "      <td>sc_h</td>\n",
              "      <td>9.614878</td>\n",
              "    </tr>\n",
              "    <tr>\n",
              "      <th>15</th>\n",
              "      <td>sc_w</td>\n",
              "      <td>16.480319</td>\n",
              "    </tr>\n",
              "    <tr>\n",
              "      <th>16</th>\n",
              "      <td>talk_time</td>\n",
              "      <td>13.236400</td>\n",
              "    </tr>\n",
              "    <tr>\n",
              "      <th>17</th>\n",
              "      <td>three_g</td>\n",
              "      <td>0.327643</td>\n",
              "    </tr>\n",
              "    <tr>\n",
              "      <th>18</th>\n",
              "      <td>touch_screen</td>\n",
              "      <td>1.928429</td>\n",
              "    </tr>\n",
              "    <tr>\n",
              "      <th>19</th>\n",
              "      <td>wifi</td>\n",
              "      <td>0.422091</td>\n",
              "    </tr>\n",
              "  </tbody>\n",
              "</table>\n",
              "</div>"
            ],
            "text/plain": [
              "         features         scores\n",
              "0   battery_power   14129.866576\n",
              "1            blue       0.723232\n",
              "2     clock_speed       0.648366\n",
              "3        dual_sim       0.631011\n",
              "4              fc      10.135166\n",
              "5          four_g       1.521572\n",
              "6      int_memory      89.839124\n",
              "7           m_dep       0.745820\n",
              "8       mobile_wt      95.972863\n",
              "9         n_cores       9.097556\n",
              "10             pc       9.186054\n",
              "11      px_height   17363.569536\n",
              "12       px_width    9810.586750\n",
              "13            ram  931267.519053\n",
              "14           sc_h       9.614878\n",
              "15           sc_w      16.480319\n",
              "16      talk_time      13.236400\n",
              "17        three_g       0.327643\n",
              "18   touch_screen       1.928429\n",
              "19           wifi       0.422091"
            ]
          },
          "metadata": {
            "tags": []
          },
          "execution_count": 17
        }
      ]
    },
    {
      "cell_type": "code",
      "metadata": {
        "colab_type": "code",
        "id": "8AoKhYj-r-39",
        "colab": {
          "base_uri": "https://localhost:8080/",
          "height": 208
        },
        "outputId": "116a4fe6-b896-4514-bd22-b2036273b4d2"
      },
      "source": [
        "print(score_list.nlargest(10,\"scores\"))"
      ],
      "execution_count": 18,
      "outputs": [
        {
          "output_type": "stream",
          "text": [
            "         features         scores\n",
            "13            ram  931267.519053\n",
            "11      px_height   17363.569536\n",
            "0   battery_power   14129.866576\n",
            "12       px_width    9810.586750\n",
            "8       mobile_wt      95.972863\n",
            "6      int_memory      89.839124\n",
            "15           sc_w      16.480319\n",
            "16      talk_time      13.236400\n",
            "4              fc      10.135166\n",
            "14           sc_h       9.614878\n"
          ],
          "name": "stdout"
        }
      ]
    },
    {
      "cell_type": "markdown",
      "metadata": {
        "colab_type": "text",
        "id": "aaFdixTgr-3_"
      },
      "source": [
        "Selecting the best features"
      ]
    },
    {
      "cell_type": "code",
      "metadata": {
        "colab_type": "code",
        "id": "kMCyLvCor-3_",
        "colab": {}
      },
      "source": [
        "train_data.drop(train_data.columns[[1,2,3,5,7,9,10,17,18,19]],axis=1,inplace=True)"
      ],
      "execution_count": 19,
      "outputs": []
    },
    {
      "cell_type": "code",
      "metadata": {
        "colab_type": "code",
        "id": "whh4T60Rr-4B",
        "colab": {
          "base_uri": "https://localhost:8080/",
          "height": 202
        },
        "outputId": "aee353ed-c1b2-46e8-f344-eb55cf83259a"
      },
      "source": [
        "train_data.head()"
      ],
      "execution_count": 20,
      "outputs": [
        {
          "output_type": "execute_result",
          "data": {
            "text/html": [
              "<div>\n",
              "<style scoped>\n",
              "    .dataframe tbody tr th:only-of-type {\n",
              "        vertical-align: middle;\n",
              "    }\n",
              "\n",
              "    .dataframe tbody tr th {\n",
              "        vertical-align: top;\n",
              "    }\n",
              "\n",
              "    .dataframe thead th {\n",
              "        text-align: right;\n",
              "    }\n",
              "</style>\n",
              "<table border=\"1\" class=\"dataframe\">\n",
              "  <thead>\n",
              "    <tr style=\"text-align: right;\">\n",
              "      <th></th>\n",
              "      <th>battery_power</th>\n",
              "      <th>fc</th>\n",
              "      <th>int_memory</th>\n",
              "      <th>mobile_wt</th>\n",
              "      <th>px_height</th>\n",
              "      <th>px_width</th>\n",
              "      <th>ram</th>\n",
              "      <th>sc_h</th>\n",
              "      <th>sc_w</th>\n",
              "      <th>talk_time</th>\n",
              "      <th>price_range</th>\n",
              "    </tr>\n",
              "  </thead>\n",
              "  <tbody>\n",
              "    <tr>\n",
              "      <th>0</th>\n",
              "      <td>842</td>\n",
              "      <td>1</td>\n",
              "      <td>7</td>\n",
              "      <td>188</td>\n",
              "      <td>20</td>\n",
              "      <td>756</td>\n",
              "      <td>2549</td>\n",
              "      <td>9</td>\n",
              "      <td>7</td>\n",
              "      <td>19</td>\n",
              "      <td>1</td>\n",
              "    </tr>\n",
              "    <tr>\n",
              "      <th>1</th>\n",
              "      <td>1021</td>\n",
              "      <td>0</td>\n",
              "      <td>53</td>\n",
              "      <td>136</td>\n",
              "      <td>905</td>\n",
              "      <td>1988</td>\n",
              "      <td>2631</td>\n",
              "      <td>17</td>\n",
              "      <td>3</td>\n",
              "      <td>7</td>\n",
              "      <td>2</td>\n",
              "    </tr>\n",
              "    <tr>\n",
              "      <th>2</th>\n",
              "      <td>563</td>\n",
              "      <td>2</td>\n",
              "      <td>41</td>\n",
              "      <td>145</td>\n",
              "      <td>1263</td>\n",
              "      <td>1716</td>\n",
              "      <td>2603</td>\n",
              "      <td>11</td>\n",
              "      <td>2</td>\n",
              "      <td>9</td>\n",
              "      <td>2</td>\n",
              "    </tr>\n",
              "    <tr>\n",
              "      <th>3</th>\n",
              "      <td>615</td>\n",
              "      <td>0</td>\n",
              "      <td>10</td>\n",
              "      <td>131</td>\n",
              "      <td>1216</td>\n",
              "      <td>1786</td>\n",
              "      <td>2769</td>\n",
              "      <td>16</td>\n",
              "      <td>8</td>\n",
              "      <td>11</td>\n",
              "      <td>2</td>\n",
              "    </tr>\n",
              "    <tr>\n",
              "      <th>4</th>\n",
              "      <td>1821</td>\n",
              "      <td>13</td>\n",
              "      <td>44</td>\n",
              "      <td>141</td>\n",
              "      <td>1208</td>\n",
              "      <td>1212</td>\n",
              "      <td>1411</td>\n",
              "      <td>8</td>\n",
              "      <td>2</td>\n",
              "      <td>15</td>\n",
              "      <td>1</td>\n",
              "    </tr>\n",
              "  </tbody>\n",
              "</table>\n",
              "</div>"
            ],
            "text/plain": [
              "   battery_power  fc  int_memory  mobile_wt  ...  sc_h  sc_w  talk_time  price_range\n",
              "0            842   1           7        188  ...     9     7         19            1\n",
              "1           1021   0          53        136  ...    17     3          7            2\n",
              "2            563   2          41        145  ...    11     2          9            2\n",
              "3            615   0          10        131  ...    16     8         11            2\n",
              "4           1821  13          44        141  ...     8     2         15            1\n",
              "\n",
              "[5 rows x 11 columns]"
            ]
          },
          "metadata": {
            "tags": []
          },
          "execution_count": 20
        }
      ]
    },
    {
      "cell_type": "markdown",
      "metadata": {
        "colab_type": "text",
        "id": "PxGynP0Pr-4F"
      },
      "source": [
        "## Splitting dependent and independent variable"
      ]
    },
    {
      "cell_type": "code",
      "metadata": {
        "colab_type": "code",
        "id": "dkg9OkgWr-4G",
        "colab": {
          "base_uri": "https://localhost:8080/",
          "height": 35
        },
        "outputId": "2d411d9b-7963-4aec-f9c6-96a9f6ede428"
      },
      "source": [
        "x = train_data.iloc[:,:10].values\n",
        "y = train_data.iloc[:,10].values\n",
        "y"
      ],
      "execution_count": 21,
      "outputs": [
        {
          "output_type": "execute_result",
          "data": {
            "text/plain": [
              "array([1, 2, 2, ..., 3, 0, 3])"
            ]
          },
          "metadata": {
            "tags": []
          },
          "execution_count": 21
        }
      ]
    },
    {
      "cell_type": "markdown",
      "metadata": {
        "colab_type": "text",
        "id": "5aIRFUrGr-4N"
      },
      "source": [
        "## Applying cross validation technique on various models"
      ]
    },
    {
      "cell_type": "code",
      "metadata": {
        "colab_type": "code",
        "id": "cluwcrA9r-4T",
        "colab": {}
      },
      "source": [
        "x_train,x_test,y_train,y_test = train_test_split(x,y,test_size=0.2,random_state=0)"
      ],
      "execution_count": 22,
      "outputs": []
    },
    {
      "cell_type": "code",
      "metadata": {
        "colab_type": "code",
        "id": "2MuDTLk9r-4V",
        "colab": {
          "base_uri": "https://localhost:8080/",
          "height": 87
        },
        "outputId": "05a400db-7f5e-4c82-daa6-a44dafd42a82"
      },
      "source": [
        "print(x_train.shape)\n",
        "print(x_test.shape)\n",
        "print(y_train.shape)\n",
        "print(y_test.shape)"
      ],
      "execution_count": 23,
      "outputs": [
        {
          "output_type": "stream",
          "text": [
            "(1600, 10)\n",
            "(400, 10)\n",
            "(1600,)\n",
            "(400,)\n"
          ],
          "name": "stdout"
        }
      ]
    },
    {
      "cell_type": "markdown",
      "metadata": {
        "colab_type": "text",
        "id": "l4GTljBWqlSG"
      },
      "source": [
        "### # k-nearest neighbors has the best ML result"
      ]
    },
    {
      "cell_type": "code",
      "metadata": {
        "colab_type": "code",
        "id": "8g1ql_lHqj4P",
        "colab": {
          "base_uri": "https://localhost:8080/",
          "height": 52
        },
        "outputId": "b655da62-3a13-4765-e7e4-71ce5f4fbb67"
      },
      "source": [
        "knn = KNeighborsClassifier(n_neighbors=10)\n",
        "knn.fit(x_train,y_train)\n",
        "knn_predict=knn.predict(x_test)\n",
        "print(f\"KNN score: {knn.score(x_test,y_test)}\")\n",
        "print(f\"KNN MSE: {mean_squared_error(knn_predict,y_test)}\")"
      ],
      "execution_count": 24,
      "outputs": [
        {
          "output_type": "stream",
          "text": [
            "KNN score: 0.9525\n",
            "KNN MSE: 0.0475\n"
          ],
          "name": "stdout"
        }
      ]
    },
    {
      "cell_type": "code",
      "metadata": {
        "id": "ERXuFwGz0FID",
        "colab_type": "code",
        "colab": {
          "base_uri": "https://localhost:8080/",
          "height": 35
        },
        "outputId": "d757d20b-1384-44b8-e430-5d507de39379"
      },
      "source": [
        "from sklearn.metrics import r2_score\n",
        "print(f\"R2 score: {r2_score(y_test, knn_predict)}\")"
      ],
      "execution_count": 25,
      "outputs": [
        {
          "output_type": "stream",
          "text": [
            "R2 score: 0.9631382896166382\n"
          ],
          "name": "stdout"
        }
      ]
    },
    {
      "cell_type": "code",
      "metadata": {
        "id": "mIOjVFXeuog9",
        "colab_type": "code",
        "colab": {
          "base_uri": "https://localhost:8080/",
          "height": 87
        },
        "outputId": "bc486229-78d3-458f-febf-82a68ba18f94"
      },
      "source": [
        "cm = confusion_matrix(y_test, knn_predict)\n",
        "print(cm)"
      ],
      "execution_count": 26,
      "outputs": [
        {
          "output_type": "stream",
          "text": [
            "[[ 95   0   0   0]\n",
            " [  2  89   1   0]\n",
            " [  0   6  91   2]\n",
            " [  0   0   8 106]]\n"
          ],
          "name": "stdout"
        }
      ]
    },
    {
      "cell_type": "markdown",
      "metadata": {
        "id": "coid2_pl01iN",
        "colab_type": "text"
      },
      "source": [
        "### The result with ANN"
      ]
    },
    {
      "cell_type": "code",
      "metadata": {
        "colab_type": "code",
        "id": "ACLm7aQgr-4b",
        "colab": {}
      },
      "source": [
        "ann = tf.keras.models.Sequential() # instantiate ANN instance "
      ],
      "execution_count": 27,
      "outputs": []
    },
    {
      "cell_type": "code",
      "metadata": {
        "colab_type": "code",
        "id": "GY8hqhE3r-4c",
        "colab": {}
      },
      "source": [
        "ann.add(tf.keras.layers.Dense(units=6, activation='relu')) #Adding the input layer and the first hidden layer"
      ],
      "execution_count": 28,
      "outputs": []
    },
    {
      "cell_type": "code",
      "metadata": {
        "colab_type": "code",
        "id": "4_whJ0d1r-4e",
        "colab": {}
      },
      "source": [
        "ann.add(tf.keras.layers.Dense(units=6, activation='relu')) # Adding the second hidden layer"
      ],
      "execution_count": 29,
      "outputs": []
    },
    {
      "cell_type": "code",
      "metadata": {
        "id": "lB4pzXao1gWn",
        "colab_type": "code",
        "colab": {}
      },
      "source": [
        "ann.add(tf.keras.layers.Dense(units=1, activation='softmax')) # Adding the output layer using softmax as for MultiClassification"
      ],
      "execution_count": 30,
      "outputs": []
    },
    {
      "cell_type": "code",
      "metadata": {
        "colab_type": "code",
        "id": "6n8wNIDlr-4f",
        "colab": {}
      },
      "source": [
        "# Compile tha ANN\n",
        "ann.compile(optimizer='adam', loss='binary_crossentropy', metrics=['accuracy'])"
      ],
      "execution_count": 31,
      "outputs": []
    },
    {
      "cell_type": "code",
      "metadata": {
        "colab_type": "code",
        "id": "k1oLG3lgr-4h",
        "colab": {
          "base_uri": "https://localhost:8080/",
          "height": 1000
        },
        "outputId": "c76ccb67-e743-4380-c7ad-9f7532377d74"
      },
      "source": [
        "# Training the ANN\n",
        "ann.fit(x_train, y_train, batch_size=32, epochs= 100)"
      ],
      "execution_count": 32,
      "outputs": [
        {
          "output_type": "stream",
          "text": [
            "Epoch 1/100\n",
            "50/50 [==============================] - 0s 1ms/step - loss: -7.3196 - accuracy: 0.2550\n",
            "Epoch 2/100\n",
            "50/50 [==============================] - 0s 942us/step - loss: -7.3196 - accuracy: 0.2550\n",
            "Epoch 3/100\n",
            "50/50 [==============================] - 0s 981us/step - loss: -7.3196 - accuracy: 0.2550\n",
            "Epoch 4/100\n",
            "50/50 [==============================] - 0s 941us/step - loss: -7.3196 - accuracy: 0.2550\n",
            "Epoch 5/100\n",
            "50/50 [==============================] - 0s 911us/step - loss: -7.3196 - accuracy: 0.2550\n",
            "Epoch 6/100\n",
            "50/50 [==============================] - 0s 1ms/step - loss: -7.3196 - accuracy: 0.2550\n",
            "Epoch 7/100\n",
            "50/50 [==============================] - 0s 1ms/step - loss: -7.3196 - accuracy: 0.2550\n",
            "Epoch 8/100\n",
            "50/50 [==============================] - 0s 927us/step - loss: -7.3196 - accuracy: 0.2550\n",
            "Epoch 9/100\n",
            "50/50 [==============================] - 0s 929us/step - loss: -7.3196 - accuracy: 0.2550\n",
            "Epoch 10/100\n",
            "50/50 [==============================] - 0s 1ms/step - loss: -7.3196 - accuracy: 0.2550\n",
            "Epoch 11/100\n",
            "50/50 [==============================] - 0s 1ms/step - loss: -7.3196 - accuracy: 0.2550\n",
            "Epoch 12/100\n",
            "50/50 [==============================] - 0s 985us/step - loss: -7.3196 - accuracy: 0.2550\n",
            "Epoch 13/100\n",
            "50/50 [==============================] - 0s 936us/step - loss: -7.3196 - accuracy: 0.2550\n",
            "Epoch 14/100\n",
            "50/50 [==============================] - 0s 906us/step - loss: -7.3196 - accuracy: 0.2550\n",
            "Epoch 15/100\n",
            "50/50 [==============================] - 0s 1ms/step - loss: -7.3196 - accuracy: 0.2550\n",
            "Epoch 16/100\n",
            "50/50 [==============================] - 0s 1ms/step - loss: -7.3196 - accuracy: 0.2550\n",
            "Epoch 17/100\n",
            "50/50 [==============================] - 0s 962us/step - loss: -7.3196 - accuracy: 0.2550\n",
            "Epoch 18/100\n",
            "50/50 [==============================] - 0s 926us/step - loss: -7.3196 - accuracy: 0.2550\n",
            "Epoch 19/100\n",
            "50/50 [==============================] - 0s 969us/step - loss: -7.3196 - accuracy: 0.2550\n",
            "Epoch 20/100\n",
            "50/50 [==============================] - 0s 981us/step - loss: -7.3196 - accuracy: 0.2550\n",
            "Epoch 21/100\n",
            "50/50 [==============================] - 0s 947us/step - loss: -7.3196 - accuracy: 0.2550\n",
            "Epoch 22/100\n",
            "50/50 [==============================] - 0s 902us/step - loss: -7.3196 - accuracy: 0.2550\n",
            "Epoch 23/100\n",
            "50/50 [==============================] - 0s 897us/step - loss: -7.3196 - accuracy: 0.2550\n",
            "Epoch 24/100\n",
            "50/50 [==============================] - 0s 964us/step - loss: -7.3196 - accuracy: 0.2550\n",
            "Epoch 25/100\n",
            "50/50 [==============================] - 0s 931us/step - loss: -7.3196 - accuracy: 0.2550\n",
            "Epoch 26/100\n",
            "50/50 [==============================] - 0s 910us/step - loss: -7.3196 - accuracy: 0.2550\n",
            "Epoch 27/100\n",
            "50/50 [==============================] - 0s 914us/step - loss: -7.3196 - accuracy: 0.2550\n",
            "Epoch 28/100\n",
            "50/50 [==============================] - 0s 952us/step - loss: -7.3196 - accuracy: 0.2550\n",
            "Epoch 29/100\n",
            "50/50 [==============================] - 0s 1ms/step - loss: -7.3196 - accuracy: 0.2550\n",
            "Epoch 30/100\n",
            "50/50 [==============================] - 0s 935us/step - loss: -7.3196 - accuracy: 0.2550\n",
            "Epoch 31/100\n",
            "50/50 [==============================] - 0s 896us/step - loss: -7.3196 - accuracy: 0.2550\n",
            "Epoch 32/100\n",
            "50/50 [==============================] - 0s 906us/step - loss: -7.3196 - accuracy: 0.2550\n",
            "Epoch 33/100\n",
            "50/50 [==============================] - 0s 918us/step - loss: -7.3196 - accuracy: 0.2550\n",
            "Epoch 34/100\n",
            "50/50 [==============================] - 0s 874us/step - loss: -7.3196 - accuracy: 0.2550\n",
            "Epoch 35/100\n",
            "50/50 [==============================] - 0s 980us/step - loss: -7.3196 - accuracy: 0.2550\n",
            "Epoch 36/100\n",
            "50/50 [==============================] - 0s 900us/step - loss: -7.3196 - accuracy: 0.2550\n",
            "Epoch 37/100\n",
            "50/50 [==============================] - 0s 943us/step - loss: -7.3196 - accuracy: 0.2550\n",
            "Epoch 38/100\n",
            "50/50 [==============================] - 0s 987us/step - loss: -7.3196 - accuracy: 0.2550\n",
            "Epoch 39/100\n",
            "50/50 [==============================] - 0s 913us/step - loss: -7.3196 - accuracy: 0.2550\n",
            "Epoch 40/100\n",
            "50/50 [==============================] - 0s 958us/step - loss: -7.3196 - accuracy: 0.2550\n",
            "Epoch 41/100\n",
            "50/50 [==============================] - 0s 1ms/step - loss: -7.3196 - accuracy: 0.2550\n",
            "Epoch 42/100\n",
            "50/50 [==============================] - 0s 1ms/step - loss: -7.3196 - accuracy: 0.2550\n",
            "Epoch 43/100\n",
            "50/50 [==============================] - 0s 964us/step - loss: -7.3196 - accuracy: 0.2550\n",
            "Epoch 44/100\n",
            "50/50 [==============================] - 0s 961us/step - loss: -7.3196 - accuracy: 0.2550\n",
            "Epoch 45/100\n",
            "50/50 [==============================] - 0s 1ms/step - loss: -7.3196 - accuracy: 0.2550\n",
            "Epoch 46/100\n",
            "50/50 [==============================] - 0s 1ms/step - loss: -7.3196 - accuracy: 0.2550\n",
            "Epoch 47/100\n",
            "50/50 [==============================] - 0s 1ms/step - loss: -7.3196 - accuracy: 0.2550\n",
            "Epoch 48/100\n",
            "50/50 [==============================] - 0s 1ms/step - loss: -7.3196 - accuracy: 0.2550\n",
            "Epoch 49/100\n",
            "50/50 [==============================] - 0s 1ms/step - loss: -7.3196 - accuracy: 0.2550\n",
            "Epoch 50/100\n",
            "50/50 [==============================] - 0s 1ms/step - loss: -7.3196 - accuracy: 0.2550\n",
            "Epoch 51/100\n",
            "50/50 [==============================] - 0s 1ms/step - loss: -7.3196 - accuracy: 0.2550\n",
            "Epoch 52/100\n",
            "50/50 [==============================] - 0s 899us/step - loss: -7.3196 - accuracy: 0.2550\n",
            "Epoch 53/100\n",
            "50/50 [==============================] - 0s 953us/step - loss: -7.3196 - accuracy: 0.2550\n",
            "Epoch 54/100\n",
            "50/50 [==============================] - 0s 891us/step - loss: -7.3196 - accuracy: 0.2550\n",
            "Epoch 55/100\n",
            "50/50 [==============================] - 0s 1ms/step - loss: -7.3196 - accuracy: 0.2550\n",
            "Epoch 56/100\n",
            "50/50 [==============================] - 0s 903us/step - loss: -7.3196 - accuracy: 0.2550\n",
            "Epoch 57/100\n",
            "50/50 [==============================] - 0s 1ms/step - loss: -7.3196 - accuracy: 0.2550\n",
            "Epoch 58/100\n",
            "50/50 [==============================] - 0s 877us/step - loss: -7.3196 - accuracy: 0.2550\n",
            "Epoch 59/100\n",
            "50/50 [==============================] - 0s 1ms/step - loss: -7.3196 - accuracy: 0.2550\n",
            "Epoch 60/100\n",
            "50/50 [==============================] - 0s 1ms/step - loss: -7.3196 - accuracy: 0.2550\n",
            "Epoch 61/100\n",
            "50/50 [==============================] - 0s 1ms/step - loss: -7.3196 - accuracy: 0.2550\n",
            "Epoch 62/100\n",
            "50/50 [==============================] - 0s 1ms/step - loss: -7.3196 - accuracy: 0.2550\n",
            "Epoch 63/100\n",
            "50/50 [==============================] - 0s 1ms/step - loss: -7.3196 - accuracy: 0.2550\n",
            "Epoch 64/100\n",
            "50/50 [==============================] - 0s 1ms/step - loss: -7.3196 - accuracy: 0.2550\n",
            "Epoch 65/100\n",
            "50/50 [==============================] - 0s 1ms/step - loss: -7.3196 - accuracy: 0.2550\n",
            "Epoch 66/100\n",
            "50/50 [==============================] - 0s 1ms/step - loss: -7.3196 - accuracy: 0.2550\n",
            "Epoch 67/100\n",
            "50/50 [==============================] - 0s 959us/step - loss: -7.3196 - accuracy: 0.2550\n",
            "Epoch 68/100\n",
            "50/50 [==============================] - 0s 918us/step - loss: -7.3196 - accuracy: 0.2550\n",
            "Epoch 69/100\n",
            "50/50 [==============================] - 0s 922us/step - loss: -7.3196 - accuracy: 0.2550\n",
            "Epoch 70/100\n",
            "50/50 [==============================] - 0s 954us/step - loss: -7.3196 - accuracy: 0.2550\n",
            "Epoch 71/100\n",
            "50/50 [==============================] - 0s 1ms/step - loss: -7.3196 - accuracy: 0.2550\n",
            "Epoch 72/100\n",
            "50/50 [==============================] - 0s 972us/step - loss: -7.3196 - accuracy: 0.2550\n",
            "Epoch 73/100\n",
            "50/50 [==============================] - 0s 1ms/step - loss: -7.3196 - accuracy: 0.2550\n",
            "Epoch 74/100\n",
            "50/50 [==============================] - 0s 906us/step - loss: -7.3196 - accuracy: 0.2550\n",
            "Epoch 75/100\n",
            "50/50 [==============================] - 0s 927us/step - loss: -7.3196 - accuracy: 0.2550\n",
            "Epoch 76/100\n",
            "50/50 [==============================] - 0s 889us/step - loss: -7.3196 - accuracy: 0.2550\n",
            "Epoch 77/100\n",
            "50/50 [==============================] - 0s 895us/step - loss: -7.3196 - accuracy: 0.2550\n",
            "Epoch 78/100\n",
            "50/50 [==============================] - 0s 998us/step - loss: -7.3196 - accuracy: 0.2550\n",
            "Epoch 79/100\n",
            "50/50 [==============================] - 0s 897us/step - loss: -7.3196 - accuracy: 0.2550\n",
            "Epoch 80/100\n",
            "50/50 [==============================] - 0s 909us/step - loss: -7.3196 - accuracy: 0.2550\n",
            "Epoch 81/100\n",
            "50/50 [==============================] - 0s 915us/step - loss: -7.3196 - accuracy: 0.2550\n",
            "Epoch 82/100\n",
            "50/50 [==============================] - 0s 1ms/step - loss: -7.3196 - accuracy: 0.2550\n",
            "Epoch 83/100\n",
            "50/50 [==============================] - 0s 942us/step - loss: -7.3196 - accuracy: 0.2550\n",
            "Epoch 84/100\n",
            "50/50 [==============================] - 0s 886us/step - loss: -7.3196 - accuracy: 0.2550\n",
            "Epoch 85/100\n",
            "50/50 [==============================] - 0s 915us/step - loss: -7.3196 - accuracy: 0.2550\n",
            "Epoch 86/100\n",
            "50/50 [==============================] - 0s 1ms/step - loss: -7.3196 - accuracy: 0.2550\n",
            "Epoch 87/100\n",
            "50/50 [==============================] - 0s 967us/step - loss: -7.3196 - accuracy: 0.2550\n",
            "Epoch 88/100\n",
            "50/50 [==============================] - 0s 924us/step - loss: -7.3196 - accuracy: 0.2550\n",
            "Epoch 89/100\n",
            "50/50 [==============================] - 0s 897us/step - loss: -7.3196 - accuracy: 0.2550\n",
            "Epoch 90/100\n",
            "50/50 [==============================] - 0s 950us/step - loss: -7.3196 - accuracy: 0.2550\n",
            "Epoch 91/100\n",
            "50/50 [==============================] - 0s 886us/step - loss: -7.3196 - accuracy: 0.2550\n",
            "Epoch 92/100\n",
            "50/50 [==============================] - 0s 955us/step - loss: -7.3196 - accuracy: 0.2550\n",
            "Epoch 93/100\n",
            "50/50 [==============================] - 0s 899us/step - loss: -7.3196 - accuracy: 0.2550\n",
            "Epoch 94/100\n",
            "50/50 [==============================] - 0s 908us/step - loss: -7.3196 - accuracy: 0.2550\n",
            "Epoch 95/100\n",
            "50/50 [==============================] - 0s 992us/step - loss: -7.3196 - accuracy: 0.2550\n",
            "Epoch 96/100\n",
            "50/50 [==============================] - 0s 977us/step - loss: -7.3196 - accuracy: 0.2550\n",
            "Epoch 97/100\n",
            "50/50 [==============================] - 0s 874us/step - loss: -7.3196 - accuracy: 0.2550\n",
            "Epoch 98/100\n",
            "50/50 [==============================] - 0s 915us/step - loss: -7.3196 - accuracy: 0.2550\n",
            "Epoch 99/100\n",
            "50/50 [==============================] - 0s 1ms/step - loss: -7.3196 - accuracy: 0.2550\n",
            "Epoch 100/100\n",
            "50/50 [==============================] - 0s 905us/step - loss: -7.3196 - accuracy: 0.2550\n"
          ],
          "name": "stdout"
        },
        {
          "output_type": "execute_result",
          "data": {
            "text/plain": [
              "<tensorflow.python.keras.callbacks.History at 0x7f12136667b8>"
            ]
          },
          "metadata": {
            "tags": []
          },
          "execution_count": 32
        }
      ]
    },
    {
      "cell_type": "code",
      "metadata": {
        "colab_type": "code",
        "id": "Dr5EyoM4r-4i",
        "colab": {
          "base_uri": "https://localhost:8080/",
          "height": 260
        },
        "outputId": "c5ce2cd2-d12c-4d4e-ee98-6f0309a52b60"
      },
      "source": [
        "ann.summary() # The number of parameter used in this ANN"
      ],
      "execution_count": 33,
      "outputs": [
        {
          "output_type": "stream",
          "text": [
            "Model: \"sequential\"\n",
            "_________________________________________________________________\n",
            "Layer (type)                 Output Shape              Param #   \n",
            "=================================================================\n",
            "dense (Dense)                (32, 6)                   66        \n",
            "_________________________________________________________________\n",
            "dense_1 (Dense)              (32, 6)                   42        \n",
            "_________________________________________________________________\n",
            "dense_2 (Dense)              (32, 1)                   7         \n",
            "=================================================================\n",
            "Total params: 115\n",
            "Trainable params: 115\n",
            "Non-trainable params: 0\n",
            "_________________________________________________________________\n"
          ],
          "name": "stdout"
        }
      ]
    },
    {
      "cell_type": "code",
      "metadata": {
        "colab_type": "code",
        "id": "8INkJlRkr-4k",
        "colab": {
          "base_uri": "https://localhost:8080/",
          "height": 35
        },
        "outputId": "e96063c7-cef2-4917-bd60-58a0aa9c9e2c"
      },
      "source": [
        "y_pred = ann.predict(x_test)\n",
        "y_pred.shape"
      ],
      "execution_count": 34,
      "outputs": [
        {
          "output_type": "execute_result",
          "data": {
            "text/plain": [
              "(400, 1)"
            ]
          },
          "metadata": {
            "tags": []
          },
          "execution_count": 34
        }
      ]
    },
    {
      "cell_type": "code",
      "metadata": {
        "colab_type": "code",
        "id": "WYvEvYjsr-4m",
        "colab": {}
      },
      "source": [
        "y_pred = y_pred > 0.5"
      ],
      "execution_count": 35,
      "outputs": []
    },
    {
      "cell_type": "code",
      "metadata": {
        "colab_type": "code",
        "id": "arlg6Hqn_OKD",
        "colab": {
          "base_uri": "https://localhost:8080/",
          "height": 1000
        },
        "outputId": "7014ade8-e577-4369-b08c-f819482473bc"
      },
      "source": [
        "# Compare the predicted result with the real\n",
        "print(np.concatenate((y_pred.reshape(len(y_pred),1), y_test.reshape(len(y_test),1)),1))"
      ],
      "execution_count": 36,
      "outputs": [
        {
          "output_type": "stream",
          "text": [
            "[[1 3]\n",
            " [1 0]\n",
            " [1 2]\n",
            " [1 2]\n",
            " [1 2]\n",
            " [1 0]\n",
            " [1 0]\n",
            " [1 3]\n",
            " [1 3]\n",
            " [1 1]\n",
            " [1 1]\n",
            " [1 3]\n",
            " [1 0]\n",
            " [1 2]\n",
            " [1 3]\n",
            " [1 0]\n",
            " [1 3]\n",
            " [1 2]\n",
            " [1 2]\n",
            " [1 1]\n",
            " [1 0]\n",
            " [1 0]\n",
            " [1 3]\n",
            " [1 1]\n",
            " [1 2]\n",
            " [1 2]\n",
            " [1 3]\n",
            " [1 1]\n",
            " [1 3]\n",
            " [1 1]\n",
            " [1 1]\n",
            " [1 0]\n",
            " [1 2]\n",
            " [1 0]\n",
            " [1 1]\n",
            " [1 3]\n",
            " [1 0]\n",
            " [1 0]\n",
            " [1 3]\n",
            " [1 3]\n",
            " [1 3]\n",
            " [1 1]\n",
            " [1 3]\n",
            " [1 3]\n",
            " [1 1]\n",
            " [1 3]\n",
            " [1 0]\n",
            " [1 1]\n",
            " [1 3]\n",
            " [1 1]\n",
            " [1 1]\n",
            " [1 3]\n",
            " [1 0]\n",
            " [1 3]\n",
            " [1 0]\n",
            " [1 3]\n",
            " [1 2]\n",
            " [1 2]\n",
            " [1 0]\n",
            " [1 3]\n",
            " [1 3]\n",
            " [1 1]\n",
            " [1 3]\n",
            " [1 2]\n",
            " [1 1]\n",
            " [1 2]\n",
            " [1 3]\n",
            " [1 2]\n",
            " [1 2]\n",
            " [1 2]\n",
            " [1 3]\n",
            " [1 2]\n",
            " [1 1]\n",
            " [1 0]\n",
            " [1 1]\n",
            " [1 3]\n",
            " [1 2]\n",
            " [1 2]\n",
            " [1 1]\n",
            " [1 2]\n",
            " [1 3]\n",
            " [1 3]\n",
            " [1 3]\n",
            " [1 0]\n",
            " [1 0]\n",
            " [1 0]\n",
            " [1 2]\n",
            " [1 1]\n",
            " [1 2]\n",
            " [1 3]\n",
            " [1 1]\n",
            " [1 2]\n",
            " [1 2]\n",
            " [1 1]\n",
            " [1 0]\n",
            " [1 3]\n",
            " [1 3]\n",
            " [1 3]\n",
            " [1 0]\n",
            " [1 3]\n",
            " [1 1]\n",
            " [1 1]\n",
            " [1 2]\n",
            " [1 1]\n",
            " [1 3]\n",
            " [1 2]\n",
            " [1 2]\n",
            " [1 3]\n",
            " [1 2]\n",
            " [1 3]\n",
            " [1 3]\n",
            " [1 0]\n",
            " [1 0]\n",
            " [1 1]\n",
            " [1 3]\n",
            " [1 3]\n",
            " [1 0]\n",
            " [1 0]\n",
            " [1 1]\n",
            " [1 0]\n",
            " [1 0]\n",
            " [1 3]\n",
            " [1 2]\n",
            " [1 2]\n",
            " [1 1]\n",
            " [1 1]\n",
            " [1 1]\n",
            " [1 1]\n",
            " [1 0]\n",
            " [1 2]\n",
            " [1 1]\n",
            " [1 3]\n",
            " [1 2]\n",
            " [1 3]\n",
            " [1 3]\n",
            " [1 3]\n",
            " [1 3]\n",
            " [1 2]\n",
            " [1 0]\n",
            " [1 1]\n",
            " [1 1]\n",
            " [1 2]\n",
            " [1 1]\n",
            " [1 3]\n",
            " [1 1]\n",
            " [1 3]\n",
            " [1 0]\n",
            " [1 0]\n",
            " [1 2]\n",
            " [1 0]\n",
            " [1 1]\n",
            " [1 1]\n",
            " [1 1]\n",
            " [1 1]\n",
            " [1 3]\n",
            " [1 0]\n",
            " [1 0]\n",
            " [1 3]\n",
            " [1 1]\n",
            " [1 3]\n",
            " [1 2]\n",
            " [1 1]\n",
            " [1 3]\n",
            " [1 1]\n",
            " [1 2]\n",
            " [1 3]\n",
            " [1 3]\n",
            " [1 2]\n",
            " [1 1]\n",
            " [1 0]\n",
            " [1 3]\n",
            " [1 1]\n",
            " [1 2]\n",
            " [1 3]\n",
            " [1 3]\n",
            " [1 0]\n",
            " [1 2]\n",
            " [1 2]\n",
            " [1 3]\n",
            " [1 0]\n",
            " [1 2]\n",
            " [1 1]\n",
            " [1 0]\n",
            " [1 1]\n",
            " [1 2]\n",
            " [1 1]\n",
            " [1 2]\n",
            " [1 0]\n",
            " [1 3]\n",
            " [1 3]\n",
            " [1 1]\n",
            " [1 1]\n",
            " [1 0]\n",
            " [1 2]\n",
            " [1 3]\n",
            " [1 0]\n",
            " [1 1]\n",
            " [1 2]\n",
            " [1 2]\n",
            " [1 0]\n",
            " [1 3]\n",
            " [1 3]\n",
            " [1 3]\n",
            " [1 1]\n",
            " [1 2]\n",
            " [1 3]\n",
            " [1 3]\n",
            " [1 3]\n",
            " [1 0]\n",
            " [1 0]\n",
            " [1 0]\n",
            " [1 2]\n",
            " [1 3]\n",
            " [1 3]\n",
            " [1 0]\n",
            " [1 0]\n",
            " [1 1]\n",
            " [1 3]\n",
            " [1 1]\n",
            " [1 3]\n",
            " [1 3]\n",
            " [1 3]\n",
            " [1 0]\n",
            " [1 0]\n",
            " [1 2]\n",
            " [1 3]\n",
            " [1 3]\n",
            " [1 1]\n",
            " [1 0]\n",
            " [1 2]\n",
            " [1 0]\n",
            " [1 0]\n",
            " [1 0]\n",
            " [1 3]\n",
            " [1 2]\n",
            " [1 0]\n",
            " [1 2]\n",
            " [1 2]\n",
            " [1 1]\n",
            " [1 1]\n",
            " [1 0]\n",
            " [1 2]\n",
            " [1 3]\n",
            " [1 3]\n",
            " [1 0]\n",
            " [1 0]\n",
            " [1 1]\n",
            " [1 3]\n",
            " [1 3]\n",
            " [1 2]\n",
            " [1 3]\n",
            " [1 0]\n",
            " [1 3]\n",
            " [1 1]\n",
            " [1 1]\n",
            " [1 0]\n",
            " [1 2]\n",
            " [1 3]\n",
            " [1 3]\n",
            " [1 2]\n",
            " [1 0]\n",
            " [1 0]\n",
            " [1 1]\n",
            " [1 2]\n",
            " [1 3]\n",
            " [1 2]\n",
            " [1 2]\n",
            " [1 3]\n",
            " [1 2]\n",
            " [1 1]\n",
            " [1 0]\n",
            " [1 3]\n",
            " [1 3]\n",
            " [1 2]\n",
            " [1 1]\n",
            " [1 3]\n",
            " [1 2]\n",
            " [1 2]\n",
            " [1 2]\n",
            " [1 1]\n",
            " [1 0]\n",
            " [1 2]\n",
            " [1 2]\n",
            " [1 1]\n",
            " [1 0]\n",
            " [1 0]\n",
            " [1 2]\n",
            " [1 2]\n",
            " [1 2]\n",
            " [1 2]\n",
            " [1 0]\n",
            " [1 1]\n",
            " [1 3]\n",
            " [1 0]\n",
            " [1 1]\n",
            " [1 2]\n",
            " [1 3]\n",
            " [1 0]\n",
            " [1 2]\n",
            " [1 0]\n",
            " [1 1]\n",
            " [1 1]\n",
            " [1 3]\n",
            " [1 0]\n",
            " [1 0]\n",
            " [1 2]\n",
            " [1 3]\n",
            " [1 1]\n",
            " [1 2]\n",
            " [1 0]\n",
            " [1 2]\n",
            " [1 0]\n",
            " [1 3]\n",
            " [1 0]\n",
            " [1 3]\n",
            " [1 3]\n",
            " [1 2]\n",
            " [1 3]\n",
            " [1 1]\n",
            " [1 2]\n",
            " [1 2]\n",
            " [1 1]\n",
            " [1 1]\n",
            " [1 1]\n",
            " [1 0]\n",
            " [1 1]\n",
            " [1 0]\n",
            " [1 3]\n",
            " [1 1]\n",
            " [1 0]\n",
            " [1 3]\n",
            " [1 0]\n",
            " [1 0]\n",
            " [1 1]\n",
            " [1 3]\n",
            " [1 0]\n",
            " [1 3]\n",
            " [1 1]\n",
            " [1 2]\n",
            " [1 0]\n",
            " [1 1]\n",
            " [1 3]\n",
            " [1 0]\n",
            " [1 2]\n",
            " [1 2]\n",
            " [1 1]\n",
            " [1 2]\n",
            " [1 1]\n",
            " [1 1]\n",
            " [1 0]\n",
            " [1 2]\n",
            " [1 0]\n",
            " [1 0]\n",
            " [1 3]\n",
            " [1 1]\n",
            " [1 2]\n",
            " [1 3]\n",
            " [1 2]\n",
            " [1 2]\n",
            " [1 0]\n",
            " [1 3]\n",
            " [1 2]\n",
            " [1 2]\n",
            " [1 1]\n",
            " [1 3]\n",
            " [1 2]\n",
            " [1 3]\n",
            " [1 3]\n",
            " [1 3]\n",
            " [1 0]\n",
            " [1 2]\n",
            " [1 0]\n",
            " [1 3]\n",
            " [1 0]\n",
            " [1 1]\n",
            " [1 1]\n",
            " [1 2]\n",
            " [1 2]\n",
            " [1 1]\n",
            " [1 3]\n",
            " [1 1]\n",
            " [1 2]\n",
            " [1 0]\n",
            " [1 1]\n",
            " [1 2]\n",
            " [1 3]\n",
            " [1 0]\n",
            " [1 0]\n",
            " [1 1]\n",
            " [1 3]\n",
            " [1 0]\n",
            " [1 3]\n",
            " [1 0]\n",
            " [1 2]\n",
            " [1 2]\n",
            " [1 1]\n",
            " [1 1]\n",
            " [1 0]\n",
            " [1 2]\n",
            " [1 1]]\n"
          ],
          "name": "stdout"
        }
      ]
    },
    {
      "cell_type": "markdown",
      "metadata": {
        "id": "86kEfQN56_VD",
        "colab_type": "text"
      },
      "source": [
        "# Conclusion \n",
        "##The ANN does not work well with the data set even I add a third layer and raise the epochs to 300.\n",
        "## Anyway the KNN model has a great accuracy and confusion matrix result with this data set"
      ]
    }
  ]
}